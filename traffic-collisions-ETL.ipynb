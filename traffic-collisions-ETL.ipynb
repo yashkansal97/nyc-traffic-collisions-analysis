{
 "cells": [
  {
   "cell_type": "code",
   "execution_count": 37,
   "id": "2d920558-076a-4c23-b836-7737dbb3e65d",
   "metadata": {},
   "outputs": [],
   "source": [
    "import requests\n",
    "import pprint"
   ]
  },
  {
   "cell_type": "code",
   "execution_count": 38,
   "id": "4cd30982-6178-4ac5-85ae-45ec9c2def92",
   "metadata": {},
   "outputs": [],
   "source": [
    "URL = \"https://data.cityofnewyork.us/resource/h9gi-nx95.json?\""
   ]
  },
  {
   "cell_type": "code",
   "execution_count": 39,
   "id": "adf9fd4c-68c4-4067-acfa-76693ae6bed9",
   "metadata": {},
   "outputs": [],
   "source": [
    "limit = \"&$limit=10000\"\n",
    "query = \"&$where=crash_date >= '2023-02-01T00:00:00.000' AND crash_date < '2023-03-01T00:00:00.000'\"\n",
    "query_url = URL+limit+query\n",
    "response = requests.get(query_url)\n",
    "data = response.json()"
   ]
  },
  {
   "cell_type": "code",
   "execution_count": 40,
   "id": "a90de788-48d7-4ab7-bc6b-3c0b7810db79",
   "metadata": {},
   "outputs": [
    {
     "data": {
      "text/plain": [
       "list"
      ]
     },
     "execution_count": 40,
     "metadata": {},
     "output_type": "execute_result"
    }
   ],
   "source": [
    "type(data)"
   ]
  },
  {
   "cell_type": "code",
   "execution_count": 41,
   "id": "3a79527d-4965-4d9e-992d-0de348f18f4c",
   "metadata": {
    "scrolled": true,
    "tags": []
   },
   "outputs": [
    {
     "data": {
      "text/plain": [
       "6821"
      ]
     },
     "execution_count": 41,
     "metadata": {},
     "output_type": "execute_result"
    }
   ],
   "source": [
    "len(data)"
   ]
  },
  {
   "cell_type": "code",
   "execution_count": null,
   "id": "4e7acf0e-6387-4ccf-878d-941d2b372e0a",
   "metadata": {},
   "outputs": [],
   "source": []
  }
 ],
 "metadata": {
  "kernelspec": {
   "display_name": "Python 3 (ipykernel)",
   "language": "python",
   "name": "python3"
  },
  "language_info": {
   "codemirror_mode": {
    "name": "ipython",
    "version": 3
   },
   "file_extension": ".py",
   "mimetype": "text/x-python",
   "name": "python",
   "nbconvert_exporter": "python",
   "pygments_lexer": "ipython3",
   "version": "3.7.13"
  }
 },
 "nbformat": 4,
 "nbformat_minor": 5
}
